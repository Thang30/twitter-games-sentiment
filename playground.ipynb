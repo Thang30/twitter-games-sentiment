{
 "cells": [
  {
   "cell_type": "code",
   "execution_count": 1,
   "metadata": {
    "collapsed": true,
    "deletable": true,
    "editable": true
   },
   "outputs": [],
   "source": [
    "import pandas as pd\n",
    "import numpy as np"
   ]
  },
  {
   "cell_type": "code",
   "execution_count": 2,
   "metadata": {
    "collapsed": false
   },
   "outputs": [
    {
     "data": {
      "text/html": [
       "<div>\n",
       "<table border=\"1\" class=\"dataframe\">\n",
       "  <thead>\n",
       "    <tr style=\"text-align: right;\">\n",
       "      <th></th>\n",
       "      <th>id</th>\n",
       "      <th>user_description</th>\n",
       "      <th>user_location</th>\n",
       "      <th>coordinates</th>\n",
       "      <th>text</th>\n",
       "      <th>geo</th>\n",
       "      <th>user_name</th>\n",
       "      <th>user_created</th>\n",
       "      <th>user_followers</th>\n",
       "      <th>id_str</th>\n",
       "      <th>created</th>\n",
       "      <th>retweet_count</th>\n",
       "      <th>user_bg_color</th>\n",
       "      <th>polarity</th>\n",
       "      <th>subjectivity</th>\n",
       "    </tr>\n",
       "  </thead>\n",
       "  <tbody>\n",
       "    <tr>\n",
       "      <th>0</th>\n",
       "      <td>1</td>\n",
       "      <td>| Name: Andy | Age: 19 | Gender: Female | Dog ...</td>\n",
       "      <td>Fandom Hell</td>\n",
       "      <td>NaN</td>\n",
       "      <td>RT @TITANSofCOSPLAY: Aloy #cosplay by @IlonaBu...</td>\n",
       "      <td>NaN</td>\n",
       "      <td>NoctisLCatchem</td>\n",
       "      <td>2012-04-04T02:56:47</td>\n",
       "      <td>59</td>\n",
       "      <td>841923464961376256</td>\n",
       "      <td>2017-03-15T08:06:10</td>\n",
       "      <td>0</td>\n",
       "      <td>000000</td>\n",
       "      <td>0.0</td>\n",
       "      <td>0.0</td>\n",
       "    </tr>\n",
       "    <tr>\n",
       "      <th>1</th>\n",
       "      <td>2</td>\n",
       "      <td>BB, #blogueur et #Youtubeur #Cinema #JeuxVideo...</td>\n",
       "      <td>NaN</td>\n",
       "      <td>NaN</td>\n",
       "      <td>Quel temps de merde...\\n#Ps4 #Aloy #HorizonZer...</td>\n",
       "      <td>NaN</td>\n",
       "      <td>_BBBuzz</td>\n",
       "      <td>2011-07-18T20:08:35</td>\n",
       "      <td>1292</td>\n",
       "      <td>841923473123508224</td>\n",
       "      <td>2017-03-15T08:06:12</td>\n",
       "      <td>0</td>\n",
       "      <td>022330</td>\n",
       "      <td>0.0</td>\n",
       "      <td>0.0</td>\n",
       "    </tr>\n",
       "    <tr>\n",
       "      <th>2</th>\n",
       "      <td>3</td>\n",
       "      <td>Bee yourself.</td>\n",
       "      <td>Hyrule</td>\n",
       "      <td>NaN</td>\n",
       "      <td>love filling this up #BreathoftheWild #Nintend...</td>\n",
       "      <td>NaN</td>\n",
       "      <td>swolepepe</td>\n",
       "      <td>2015-08-31T02:16:51</td>\n",
       "      <td>75</td>\n",
       "      <td>841923474193014785</td>\n",
       "      <td>2017-03-15T08:06:13</td>\n",
       "      <td>0</td>\n",
       "      <td>C0DEED</td>\n",
       "      <td>0.5</td>\n",
       "      <td>0.6</td>\n",
       "    </tr>\n",
       "    <tr>\n",
       "      <th>3</th>\n",
       "      <td>4</td>\n",
       "      <td>It is said that one man is not two, but three ...</td>\n",
       "      <td>Duluth, MN</td>\n",
       "      <td>NaN</td>\n",
       "      <td>#BreathoftheWild #NintendoSwitch https://t.co/...</td>\n",
       "      <td>NaN</td>\n",
       "      <td>Otofuniki64</td>\n",
       "      <td>2013-07-09T00:53:39</td>\n",
       "      <td>32</td>\n",
       "      <td>841923474486624258</td>\n",
       "      <td>2017-03-15T08:06:13</td>\n",
       "      <td>0</td>\n",
       "      <td>000000</td>\n",
       "      <td>0.0</td>\n",
       "      <td>0.0</td>\n",
       "    </tr>\n",
       "    <tr>\n",
       "      <th>4</th>\n",
       "      <td>5</td>\n",
       "      <td>No eres tú. Soy yo.</td>\n",
       "      <td>Villarrobledo City</td>\n",
       "      <td>NaN</td>\n",
       "      <td>RT @JohnCarca: Esto es lo que pasa cuando cons...</td>\n",
       "      <td>NaN</td>\n",
       "      <td>DavidJuampax</td>\n",
       "      <td>2011-08-21T14:48:23</td>\n",
       "      <td>153</td>\n",
       "      <td>841923476311154690</td>\n",
       "      <td>2017-03-15T08:06:13</td>\n",
       "      <td>0</td>\n",
       "      <td>C0DEED</td>\n",
       "      <td>0.0</td>\n",
       "      <td>0.0</td>\n",
       "    </tr>\n",
       "  </tbody>\n",
       "</table>\n",
       "</div>"
      ],
      "text/plain": [
       "   id                                   user_description       user_location  \\\n",
       "0   1  | Name: Andy | Age: 19 | Gender: Female | Dog ...         Fandom Hell   \n",
       "1   2  BB, #blogueur et #Youtubeur #Cinema #JeuxVideo...                 NaN   \n",
       "2   3                                      Bee yourself.              Hyrule   \n",
       "3   4  It is said that one man is not two, but three ...          Duluth, MN   \n",
       "4   5                                No eres tú. Soy yo.  Villarrobledo City   \n",
       "\n",
       "  coordinates                                               text  geo  \\\n",
       "0         NaN  RT @TITANSofCOSPLAY: Aloy #cosplay by @IlonaBu...  NaN   \n",
       "1         NaN  Quel temps de merde...\\n#Ps4 #Aloy #HorizonZer...  NaN   \n",
       "2         NaN  love filling this up #BreathoftheWild #Nintend...  NaN   \n",
       "3         NaN  #BreathoftheWild #NintendoSwitch https://t.co/...  NaN   \n",
       "4         NaN  RT @JohnCarca: Esto es lo que pasa cuando cons...  NaN   \n",
       "\n",
       "        user_name         user_created  user_followers              id_str  \\\n",
       "0  NoctisLCatchem  2012-04-04T02:56:47              59  841923464961376256   \n",
       "1         _BBBuzz  2011-07-18T20:08:35            1292  841923473123508224   \n",
       "2       swolepepe  2015-08-31T02:16:51              75  841923474193014785   \n",
       "3     Otofuniki64  2013-07-09T00:53:39              32  841923474486624258   \n",
       "4    DavidJuampax  2011-08-21T14:48:23             153  841923476311154690   \n",
       "\n",
       "               created  retweet_count user_bg_color  polarity  subjectivity  \n",
       "0  2017-03-15T08:06:10              0        000000       0.0           0.0  \n",
       "1  2017-03-15T08:06:12              0        022330       0.0           0.0  \n",
       "2  2017-03-15T08:06:13              0        C0DEED       0.5           0.6  \n",
       "3  2017-03-15T08:06:13              0        000000       0.0           0.0  \n",
       "4  2017-03-15T08:06:13              0        C0DEED       0.0           0.0  "
      ]
     },
     "execution_count": 2,
     "metadata": {},
     "output_type": "execute_result"
    }
   ],
   "source": [
    "df = pd.read_csv('games_tweets.csv')\n",
    "df.head()"
   ]
  },
  {
   "cell_type": "code",
   "execution_count": 3,
   "metadata": {
    "collapsed": false
   },
   "outputs": [
    {
     "data": {
      "text/plain": [
       "1394"
      ]
     },
     "execution_count": 3,
     "metadata": {},
     "output_type": "execute_result"
    }
   ],
   "source": [
    "df[\"coordinates\"].isnull().sum()"
   ]
  },
  {
   "cell_type": "code",
   "execution_count": 30,
   "metadata": {
    "collapsed": false
   },
   "outputs": [
    {
     "data": {
      "text/plain": [
       "1395"
      ]
     },
     "execution_count": 30,
     "metadata": {},
     "output_type": "execute_result"
    }
   ],
   "source": [
    "df.shape[0]"
   ]
  },
  {
   "cell_type": "code",
   "execution_count": 5,
   "metadata": {
    "collapsed": false
   },
   "outputs": [
    {
     "data": {
      "text/plain": [
       "1394"
      ]
     },
     "execution_count": 5,
     "metadata": {},
     "output_type": "execute_result"
    }
   ],
   "source": [
    "df[\"geo\"].isnull().sum()"
   ]
  },
  {
   "cell_type": "code",
   "execution_count": 25,
   "metadata": {
    "collapsed": false
   },
   "outputs": [
    {
     "data": {
      "text/plain": [
       "False"
      ]
     },
     "execution_count": 25,
     "metadata": {},
     "output_type": "execute_result"
    }
   ],
   "source": [
    "pd.notnull(df[\"geo\"]).iloc[0]"
   ]
  },
  {
   "cell_type": "code",
   "execution_count": 31,
   "metadata": {
    "collapsed": false
   },
   "outputs": [
    {
     "name": "stdout",
     "output_type": "stream",
     "text": [
      "590\n"
     ]
    }
   ],
   "source": [
    "for i in range(df.shape[0]):\n",
    "    if pd.notnull(df[\"geo\"])[i] == True:\n",
    "        print(i)"
   ]
  },
  {
   "cell_type": "code",
   "execution_count": 32,
   "metadata": {
    "collapsed": false
   },
   "outputs": [
    {
     "data": {
      "text/plain": [
       "'{\"type\": \"Point\", \"coordinates\": [51.53333333, -0.08333333]}'"
      ]
     },
     "execution_count": 32,
     "metadata": {},
     "output_type": "execute_result"
    }
   ],
   "source": [
    "df[\"geo\"][590]"
   ]
  },
  {
   "cell_type": "code",
   "execution_count": 6,
   "metadata": {
    "collapsed": false
   },
   "outputs": [],
   "source": [
    "df = df.drop([\"coordinates\", \"geo\"], axis=1)\n",
    "df.head()"
   ]
  },
  {
   "cell_type": "code",
   "execution_count": null,
   "metadata": {
    "collapsed": true
   },
   "outputs": [],
   "source": []
  }
 ],
 "metadata": {
  "kernelspec": {
   "display_name": "Python 3",
   "language": "python",
   "name": "python3"
  },
  "language_info": {
   "codemirror_mode": {
    "name": "ipython",
    "version": 3
   },
   "file_extension": ".py",
   "mimetype": "text/x-python",
   "name": "python",
   "nbconvert_exporter": "python",
   "pygments_lexer": "ipython3",
   "version": "3.6.0"
  }
 },
 "nbformat": 4,
 "nbformat_minor": 2
}
